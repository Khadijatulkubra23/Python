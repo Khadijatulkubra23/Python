{
 "cells": [
  {
   "cell_type": "code",
   "execution_count": 1,
   "metadata": {},
   "outputs": [
    {
     "name": "stdout",
     "output_type": "stream",
     "text": [
      "the sum of num1 and num2 is: 68\n"
     ]
    }
   ],
   "source": [
    "num1= int(input (\"Enter 1st number:\"))\n",
    "num2= int(input(\"Enter 2nd number:\"))\n",
    "sum = num1 + num2\n",
    "print(\"the sum of num1 and num2 is:\", sum)"
   ]
  },
  {
   "cell_type": "code",
   "execution_count": 2,
   "metadata": {},
   "outputs": [
    {
     "name": "stdout",
     "output_type": "stream",
     "text": [
      "What is your favorite animal?\n",
      "My favorite animal is also Elephant\n"
     ]
    }
   ],
   "source": [
    "print('What is your favorite animal?')\n",
    "favorite_animal = input()\n",
    "\n",
    "print(\"My favorite animal is also\", favorite_animal )"
   ]
  },
  {
   "cell_type": "code",
   "execution_count": 4,
   "metadata": {},
   "outputs": [
    {
     "name": "stdout",
     "output_type": "stream",
     "text": [
      "Temperature in Fahrenheit:\n",
      "The temperature in celcius is: 22.77777777777778\n"
     ]
    }
   ],
   "source": [
    "print(\"Temperature in Fahrenheit:\")\n",
    "Fahrenheit = float(input())\n",
    "\n",
    "celcius = (Fahrenheit - 32) * 5.0/9.0\n",
    "print(\"The temperature in celcius is:\", celcius)"
   ]
  },
  {
   "cell_type": "code",
   "execution_count": 5,
   "metadata": {},
   "outputs": [
    {
     "name": "stdout",
     "output_type": "stream",
     "text": [
      "Enter the length of 1st side:\n",
      "Enter the length of 2nd side:\n",
      "Enter the length of 3rd side\n",
      "The perimeter of all sides of a triangle is: 70.0\n"
     ]
    }
   ],
   "source": [
    "print(\"Enter the length of 1st side:\")\n",
    "side1 = float(input())\n",
    "print(\"Enter the length of 2nd side:\")\n",
    "side2 = float(input())\n",
    "print(\"Enter the length of 3rd side\")\n",
    "side3 = float(input())\n",
    "\n",
    "perimeter = side1 + side2 + side3\n",
    "\n",
    "print(\"The perimeter of all sides of a triangle is:\", perimeter)\n",
    "\n",
    "\n"
   ]
  },
  {
   "cell_type": "code",
   "execution_count": null,
   "metadata": {},
   "outputs": [],
   "source": []
  }
 ],
 "metadata": {
  "kernelspec": {
   "display_name": "Python 3",
   "language": "python",
   "name": "python3"
  },
  "language_info": {
   "codemirror_mode": {
    "name": "ipython",
    "version": 3
   },
   "file_extension": ".py",
   "mimetype": "text/x-python",
   "name": "python",
   "nbconvert_exporter": "python",
   "pygments_lexer": "ipython3",
   "version": "3.12.4"
  }
 },
 "nbformat": 4,
 "nbformat_minor": 2
}
