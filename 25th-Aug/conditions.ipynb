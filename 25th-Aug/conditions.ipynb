{
 "cells": [
  {
   "cell_type": "code",
   "execution_count": 1,
   "metadata": {},
   "outputs": [],
   "source": [
    "# int()\n",
    "# float()\n",
    "# str()\n",
    "\n",
    "# Operators\n",
    "# >, <, >=, <=, ==, !=    (The answers of these operations might be True or False)\n",
    "# 3 > 4 (False)\n",
    "# 4 <= 10 (True)\n",
    "\n",
    "# logical operators\n",
    "# and, or, not\n",
    "# and (True when all conditions are True)\n",
    "# or (True when one condition is True)\n",
    "# True and True and False == False\n",
    "# True or False or False == True"
   ]
  },
  {
   "cell_type": "code",
   "execution_count": 9,
   "metadata": {},
   "outputs": [
    {
     "name": "stdout",
     "output_type": "stream",
     "text": [
      "Cold day\n",
      "Welcome\n"
     ]
    }
   ],
   "source": [
    "temp = float(input('Enter Temperature:'))\n",
    "if temp >= 35:\n",
    "    print('A hot day')\n",
    "elif temp >= 20 and temp <=35:\n",
    "    print('A pleasant day')\n",
    "\n",
    "else:\n",
    "    print('Cold day')\n",
    "print(\"Welcome\")"
   ]
  },
  {
   "cell_type": "markdown",
   "metadata": {},
   "source": []
  },
  {
   "cell_type": "markdown",
   "metadata": {},
   "source": []
  },
  {
   "cell_type": "markdown",
   "metadata": {},
   "source": []
  },
  {
   "cell_type": "markdown",
   "metadata": {},
   "source": []
  },
  {
   "cell_type": "markdown",
   "metadata": {},
   "source": []
  },
  {
   "cell_type": "markdown",
   "metadata": {},
   "source": []
  },
  {
   "cell_type": "markdown",
   "metadata": {},
   "source": []
  },
  {
   "cell_type": "code",
   "execution_count": null,
   "metadata": {},
   "outputs": [],
   "source": []
  }
 ],
 "metadata": {
  "kernelspec": {
   "display_name": "Python 3",
   "language": "python",
   "name": "python3"
  },
  "language_info": {
   "codemirror_mode": {
    "name": "ipython",
    "version": 3
   },
   "file_extension": ".py",
   "mimetype": "text/x-python",
   "name": "python",
   "nbconvert_exporter": "python",
   "pygments_lexer": "ipython3",
   "version": "3.12.4"
  }
 },
 "nbformat": 4,
 "nbformat_minor": 2
}
