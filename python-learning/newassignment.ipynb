{
 "cells": [
  {
   "cell_type": "code",
   "execution_count": 1,
   "metadata": {},
   "outputs": [
    {
     "name": "stdout",
     "output_type": "stream",
     "text": [
      "Kaynat\n",
      "Zara\n",
      "Rabia\n",
      "Jaweria\n"
     ]
    }
   ],
   "source": [
    "#Question 3.1:\n",
    "names:str = [\"Rabia\",\"Kaynat\",\"Zara\",\"Jaweria\"]\n",
    "print(names[1])\n",
    "print(names[2])\n",
    "print(names[0])\n",
    "print(names[3])"
   ]
  },
  {
   "cell_type": "code",
   "execution_count": 2,
   "metadata": {},
   "outputs": [
    {
     "name": "stdout",
     "output_type": "stream",
     "text": [
      "Hello, Rabia! Its great to see you.\n",
      "Hello, Kaynat! It was lovely having you over.\n",
      "How are you, Zara.\n",
      "Oh it was lovely seeing you, Jaweria.\n"
     ]
    }
   ],
   "source": [
    "#Question 3.2:\n",
    "print(f'Hello, {names[0]}! Its great to see you.')\n",
    "print(f'Hello, {names[1]}! It was lovely having you over.')\n",
    "print(f'How are you, {names[2]}.')\n",
    "print(f'Oh it was lovely seeing you, {names[3]}.')"
   ]
  },
  {
   "cell_type": "code",
   "execution_count": 3,
   "metadata": {},
   "outputs": [
    {
     "name": "stdout",
     "output_type": "stream",
     "text": [
      "car {'I bought a car'}\n",
      "cycle {'She crashed my cycle'}\n",
      "bus {'I always ride a bus'}\n"
     ]
    }
   ],
   "source": [
    "#Question 3.3:\n",
    "transport: str=['car','cycle','bus']\n",
    "statement1: str=(\"I bought a car\")\n",
    "print(transport[0],{statement1})\n",
    "statement2: str=(\"She crashed my cycle\")\n",
    "print(transport[1],{statement2})\n",
    "statement3: str=(\"I always ride a bus\")\n",
    "print(transport[2],{statement3})"
   ]
  },
  {
   "cell_type": "code",
   "execution_count": 4,
   "metadata": {},
   "outputs": [
    {
     "name": "stdout",
     "output_type": "stream",
     "text": [
      "Dear Maheen, you are invited for dinner at my place.\n",
      "Dear Razia, you are invited for dinner at my place.\n",
      "Dear Musa, you are invited for dinner at my place.\n",
      "Dear Ibrahim, you are invited for dinner at my place.\n"
     ]
    }
   ],
   "source": [
    "#Question 3.4:\n",
    "Guests: str=[ 'Maheen', 'Razia', 'Musa', 'Ibrahim']\n",
    "print(f'Dear {Guests[0]}, you are invited for dinner at my place.')\n",
    "print(f'Dear {Guests[1]}, you are invited for dinner at my place.')\n",
    "print(f'Dear {Guests[2]}, you are invited for dinner at my place.')\n",
    "print(f'Dear {Guests[3]}, you are invited for dinner at my place.')"
   ]
  },
  {
   "cell_type": "code",
   "execution_count": 5,
   "metadata": {},
   "outputs": [
    {
     "name": "stdout",
     "output_type": "stream",
     "text": [
      "Unfortunately, Razia cannot make it to the dinner.\n",
      "Dear Zara, you are invited for dinner at my place.\n"
     ]
    }
   ],
   "source": [
    "#Question 3.5:\n",
    "print(\"Unfortunately, Razia cannot make it to the dinner.\")\n",
    "Guests[2]=\"Zara\"\n",
    "print(f'Dear {Guests[2]}, you are invited for dinner at my place.')"
   ]
  },
  {
   "cell_type": "code",
   "execution_count": 6,
   "metadata": {},
   "outputs": [
    {
     "name": "stdout",
     "output_type": "stream",
     "text": [
      "Fiza, you are invited for dinner at my place.\n",
      "Maheen, you are invited for dinner at my place.\n",
      "Laiba, you are invited for dinner at my place.\n",
      "Razia, you are invited for dinner at my place.\n",
      "Musa, you are invited for dinner at my place.\n",
      "Ibrahim, you are invited for dinner at my place.\n",
      "Fazal, you are invited for dinner at my place.\n"
     ]
    }
   ],
   "source": [
    "#Question 3.6:\n",
    "Guests = ['Maheen', 'Razia', 'Musa', 'Ibrahim']  \n",
    "\n",
    "Guests.insert(0, 'Fiza')\n",
    "middle_index = len(Guests) // 2  \n",
    "Guests.insert(middle_index, 'Laiba')\n",
    "Guests.append('Fazal')\n",
    "\n",
    "for guest in Guests:\n",
    "    print(f\"{guest}, you are invited for dinner at my place.\")\n"
   ]
  },
  {
   "cell_type": "code",
   "execution_count": 7,
   "metadata": {},
   "outputs": [
    {
     "name": "stdout",
     "output_type": "stream",
     "text": [
      "Unfortunately, due to unforeseen circumstances, I can only invite two people to dinner.\n",
      "Dear Ibrahim,I am so sorry to inform you that I cannot invite you to dinner after all.\n",
      "Dear Musa,I am so sorry to inform you that I cannot invite you to dinner after all.\n",
      "Dear Maheen,\n",
      "You are still invited to dinner. I look forward to seeing you!\n",
      "Dear Razia,\n",
      "You are still invited to dinner. I look forward to seeing you!\n",
      "[]\n"
     ]
    }
   ],
   "source": [
    "#Question 3.7:\n",
    "guests = ['Maheen', 'Razia', 'Musa', 'Ibrahim']\n",
    "print(\"Unfortunately, due to unforeseen circumstances, I can only invite two people to dinner.\")\n",
    "while len(guests) > 2:\n",
    "    removed_guest = guests.pop()\n",
    "    print(f\"Dear {removed_guest},I am so sorry to inform you that I cannot invite you to dinner after all.\")\n",
    "for guest in guests:\n",
    "    print(f\"Dear {guest},\\nYou are still invited to dinner. I look forward to seeing you!\")\n",
    "del guests[0]\n",
    "del guests[0]\n",
    "print(guests)  # Should print an empty list\n"
   ]
  },
  {
   "cell_type": "code",
   "execution_count": 8,
   "metadata": {},
   "outputs": [
    {
     "name": "stdout",
     "output_type": "stream",
     "text": [
      "['Paris', 'Brazil', 'London', 'Norway', 'Morocco']\n",
      "['Brazil', 'London', 'Morocco', 'Norway', 'Paris']\n",
      "['Paris', 'Brazil', 'London', 'Norway', 'Morocco']\n",
      "['Paris', 'Norway', 'Morocco', 'London', 'Brazil']\n",
      "['Morocco', 'Norway', 'London', 'Brazil', 'Paris']\n",
      "['Paris', 'Brazil', 'London', 'Norway', 'Morocco']\n",
      "['Brazil', 'London', 'Morocco', 'Norway', 'Paris']\n",
      "['Paris', 'Norway', 'Morocco', 'London', 'Brazil']\n"
     ]
    }
   ],
   "source": [
    "#Question 3.8:\n",
    "places = ['Paris', 'Brazil', 'London', 'Norway', 'Morocco']\n",
    "print(places) #in original order\n",
    "print(sorted(places))\n",
    "print(places)\n",
    "print(sorted(places, reverse= True))\n",
    "places.reverse()\n",
    "print(places)\n",
    "places.reverse()\n",
    "print(places)\n",
    "places.sort()\n",
    "print(places)\n",
    "places.sort(reverse=True)\n",
    "print(places)"
   ]
  },
  {
   "cell_type": "code",
   "execution_count": 11,
   "metadata": {},
   "outputs": [
    {
     "name": "stdout",
     "output_type": "stream",
     "text": [
      "apple\n",
      "mango\n",
      "banana\n",
      "5\n",
      "True\n",
      "['apple', 'grape', 'kiwi', 'mango', 'strawberry']\n",
      "['strawberry', 'mango', 'kiwi', 'grape', 'apple']\n",
      "['strawberry', 'mango', 'kiwi', 'grape', 'apple']\n",
      "['strawberry', 'mango', 'kiwi', 'grape', 'apple', 'pineapple', 'watermelon']\n"
     ]
    }
   ],
   "source": [
    "#Question 3.9:\n",
    "# Create a list of fruits\n",
    "fruits = [\"apple\", \"banana\", \"orange\", \"grape\", \"mango\"]\n",
    "# Accessing elements\n",
    "print(fruits[0])  # Access the first element\n",
    "print(fruits[-1])  # Access the last element\n",
    "# Modifying elements\n",
    "fruits[2] = \"pear\"  # Replace orange with pear\n",
    "# Adding elements\n",
    "fruits.append(\"kiwi\")  # Add kiwi to the end\n",
    "fruits.insert(1, \"strawberry\")  # Insert strawberry at index 1\n",
    "# Removing elements\n",
    "del fruits[3]  # Delete the element at index 3\n",
    "removed_fruit = fruits.pop(2)  # Remove and return the element at index 2\n",
    "print(removed_fruit)\n",
    "# List length\n",
    "print(len(fruits))\n",
    "# Checking for membership\n",
    "print(\"apple\" in fruits)  # Check if apple is in the list\n",
    "# Sorting\n",
    "fruits.sort()  # Sort the list alphabetically\n",
    "print(fruits)\n",
    "fruits.sort(reverse=True)  # Sort the list in reverse alphabetical order\n",
    "print(fruits)\n",
    "# Creating a copy of the list\n",
    "fruits_copy = fruits.copy()\n",
    "print(fruits_copy)\n",
    "# Concatenating lists\n",
    "more_fruits = [\"pineapple\", \"watermelon\"]\n",
    "fruits.extend(more_fruits)\n",
    "print(fruits)\n",
    "# Clearing the list\n",
    "fruits.clear()\n",
    "print(fruits)\n"
   ]
  },
  {
   "cell_type": "code",
   "execution_count": 1,
   "metadata": {},
   "outputs": [
    {
     "name": "stdout",
     "output_type": "stream",
     "text": [
      "grape\n"
     ]
    }
   ],
   "source": [
    "#Question 3.10\n",
    "fruits = [\"apple\", \"banana\", \"orange\", \"grape\", \"mango\"]\n",
    "\n",
    "# Induce an IndexError\n",
    "#print(fruits[10])\n",
    "print(fruits[3])"
   ]
  },
  {
   "cell_type": "code",
   "execution_count": null,
   "metadata": {},
   "outputs": [],
   "source": []
  }
 ],
 "metadata": {
  "kernelspec": {
   "display_name": "Python 3",
   "language": "python",
   "name": "python3"
  },
  "language_info": {
   "codemirror_mode": {
    "name": "ipython",
    "version": 3
   },
   "file_extension": ".py",
   "mimetype": "text/x-python",
   "name": "python",
   "nbconvert_exporter": "python",
   "pygments_lexer": "ipython3",
   "version": "3.12.4"
  }
 },
 "nbformat": 4,
 "nbformat_minor": 2
}
