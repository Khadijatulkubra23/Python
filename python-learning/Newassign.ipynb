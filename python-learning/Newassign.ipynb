{
 "cells": [
  {
   "cell_type": "code",
   "execution_count": 1,
   "metadata": {},
   "outputs": [
    {
     "name": "stdout",
     "output_type": "stream",
     "text": [
      "Rabia\n",
      "Zara\n",
      "Kaynat\n",
      "Fiza\n"
     ]
    }
   ],
   "source": [
    "names: list = ['Rabia', 'Zara', 'Kaynat', 'Fiza']\n",
    "print(names[0])\n",
    "print(names[1])\n",
    "print(names[2])\n",
    "print(names[3])"
   ]
  },
  {
   "cell_type": "code",
   "execution_count": 10,
   "metadata": {},
   "outputs": [
    {
     "name": "stdout",
     "output_type": "stream",
     "text": [
      "Rabia it was lovely seeing you.\n",
      "Zara it was lovely seeing you.\n",
      "Kaynat it was lovely seeing you.\n",
      "Fiza it was lovely seeing you.\n"
     ]
    }
   ],
   "source": [
    "message: str = (\"it was lovely seeing you.\")\n",
    "print(names[0], message)\n",
    "print(names[1] , message)\n",
    "print(names[2] , message)\n",
    "print(names[3] , message)"
   ]
  },
  {
   "cell_type": "code",
   "execution_count": 18,
   "metadata": {},
   "outputs": [
    {
     "name": "stdout",
     "output_type": "stream",
     "text": [
      "car I bought a car\n",
      "cycle She crashed my cycle\n",
      "bus I always ride a bus\n"
     ]
    }
   ],
   "source": [
    "transport: str=['car','cycle','bus']\n",
    "statement1: str=\"I bought a car\"\n",
    "print(transport[0],statement1)\n",
    "statement2: str=\"She crashed my cycle\"\n",
    "print(transport[1],statement2)\n",
    "statement3: str=\"I always ride a bus\"\n",
    "print(transport[2],statement3)"
   ]
  },
  {
   "cell_type": "code",
   "execution_count": 13,
   "metadata": {},
   "outputs": [
    {
     "name": "stdout",
     "output_type": "stream",
     "text": [
      "Dear Ayesha, you are invited for dinner at my place.\n",
      "Dear Maheen, you are invited for dinner at my place.\n",
      "Dear Musa, you are invited for dinner at my place.\n",
      "Dear Ibrahim, you are invited for dinner at my place.\n"
     ]
    }
   ],
   "source": [
    "Guests: str=['Ayesha', 'Maheen', 'Musa', 'Ibrahim']\n",
    "print(f'Dear {Guests[0]}, you are invited for dinner at my place.')\n",
    "print(f'Dear {Guests[1]}, you are invited for dinner at my place.')\n",
    "print(f'Dear {Guests[2]}, you are invited for dinner at my place.')\n",
    "print(f'Dear {Guests[3]}, you are invited for dinner at my place.')"
   ]
  },
  {
   "cell_type": "code",
   "execution_count": 16,
   "metadata": {},
   "outputs": [
    {
     "name": "stdout",
     "output_type": "stream",
     "text": [
      "Unfortunately, Maheen cannot make it to the dinner.\n",
      "Dear Zara, you are invited for dinner at my place.\n"
     ]
    }
   ],
   "source": [
    "print(\"Unfortunately, Maheen cannot make it to the dinner.\")\n",
    "Guests[2]=\"Zara\"\n",
    "print(f'Dear {Guests[2]}, you are invited for dinner at my place.')"
   ]
  },
  {
   "cell_type": "code",
   "execution_count": null,
   "metadata": {},
   "outputs": [],
   "source": []
  }
 ],
 "metadata": {
  "kernelspec": {
   "display_name": "Python 3",
   "language": "python",
   "name": "python3"
  },
  "language_info": {
   "codemirror_mode": {
    "name": "ipython",
    "version": 3
   },
   "file_extension": ".py",
   "mimetype": "text/x-python",
   "name": "python",
   "nbconvert_exporter": "python",
   "pygments_lexer": "ipython3",
   "version": "3.12.4"
  }
 },
 "nbformat": 4,
 "nbformat_minor": 2
}
